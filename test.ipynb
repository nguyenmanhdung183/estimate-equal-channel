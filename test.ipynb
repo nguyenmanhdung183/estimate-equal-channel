{
 "cells": [
  {
   "cell_type": "code",
   "execution_count": 1,
   "id": "0ae36452",
   "metadata": {},
   "outputs": [
    {
     "name": "stdout",
     "output_type": "stream",
     "text": [
      "🔸 Resource Grid (Tần số):\n",
      "[[-1.   +0.j     0.707+0.707j]\n",
      " [ 1.   +0.j     0.707-0.707j]\n",
      " [ 1.   +0.j    -0.707+0.707j]\n",
      " [-1.   +0.j    -0.707-0.707j]\n",
      " [ 1.   +0.j    -0.707-0.707j]\n",
      " [ 1.   +0.j    -0.707+0.707j]\n",
      " [ 1.   +0.j    -0.707+0.707j]\n",
      " [ 1.   +0.j     0.707-0.707j]]\n",
      "\n",
      "🔹 OFDM Time-Domain Signal:\n",
      "[[ 0.5  +0.j     0.707+0.707j]\n",
      " [-0.073-0.177j  0.707-0.707j]\n",
      " [-0.25 +0.25j  -0.707+0.707j]\n",
      " [-0.427-0.177j -0.707-0.707j]\n",
      " [ 0.   +0.j    -0.707-0.707j]\n",
      " [-0.427+0.177j -0.707+0.707j]\n",
      " [-0.25 -0.25j  -0.707+0.707j]\n",
      " [-0.073+0.177j  0.707-0.707j]]\n",
      "\n",
      "✅ So sánh đầu vào QPSK và đầu ra sau DFT-precoding:\n",
      "TX QPSK: [ 0.707+0.707j  0.707-0.707j -0.707+0.707j -0.707-0.707j -0.707-0.707j\n",
      " -0.707+0.707j -0.707+0.707j  0.707-0.707j]\n",
      "RX QPSK: [ 0.707+0.707j  0.707-0.707j -0.707+0.707j -0.707-0.707j -0.707-0.707j\n",
      " -0.707+0.707j -0.707+0.707j  0.707-0.707j]\n",
      "Sai số tuyệt đối: [0. 0. 0. 0. 0. 0. 0. 0.]\n"
     ]
    }
   ],
   "source": [
    "import numpy as np\n",
    "\n",
    "np.random.seed(0)\n",
    "\n",
    "# ⚙️ THÔNG SỐ\n",
    "N = 8         # số subcarriers\n",
    "symbols = 2   # 1 cột pilot, 1 cột data\n",
    "\n",
    "# 🎯 TẠO LƯỚI TÀI NGUYÊN\n",
    "resource_grid = np.zeros((N, symbols), dtype=complex)\n",
    "\n",
    "# 🔹 CỘT 0: PILOT (BPSK ±1)\n",
    "pilot = 2 * (np.random.randint(0, 2, N) - 0.5)  # ±1\n",
    "resource_grid[:, 0] = pilot\n",
    "\n",
    "# 🔹 CỘT 1: DỮ LIỆU (QPSK)\n",
    "data_bits = np.random.randint(0, 2, N * 2).reshape(N, 2)\n",
    "qpsk_mod = lambda b: ((1 if b[0] else -1) + 1j * (1 if b[1] else -1)) / np.sqrt(2)\n",
    "data = np.array([qpsk_mod(b) for b in data_bits])\n",
    "resource_grid[:, 1] = data\n",
    "\n",
    "print(\"🔸 Resource Grid (Tần số):\")\n",
    "print(np.round(resource_grid, 3))\n",
    "\n",
    "# 🎯 DFT-PRECODING cho cột data\n",
    "data_precoded = np.fft.fft(resource_grid[:, 1])\n",
    "resource_grid[:, 1] = data_precoded\n",
    "\n",
    "# 🌀 IFFT từng cột → tín hiệu miền thời gian\n",
    "tx_signal_time = np.fft.ifft(resource_grid, axis=0)\n",
    "print(\"\\n🔹 OFDM Time-Domain Signal:\")\n",
    "print(np.round(tx_signal_time, 3))\n",
    "\n",
    "# ✅ TRUYỀN QUA KÊNH LÝ TƯỞNG (không fading, không nhiễu)\n",
    "rx_signal_time = tx_signal_time.copy()\n",
    "\n",
    "# 🔁 FFT tại đầu thu\n",
    "rx_freq = np.fft.fft(rx_signal_time, axis=0)\n",
    "\n",
    "# 🔄 BỎ DFT bằng IDFT với cột data (cột 1)\n",
    "rx_data_no_precoding = np.fft.ifft(rx_freq[:, 1])\n",
    "\n",
    "# 🧪 So sánh với QAM gốc\n",
    "print(\"\\n✅ So sánh đầu vào QPSK và đầu ra sau DFT-precoding:\")\n",
    "print(\"TX QPSK:\", np.round(data, 3))\n",
    "print(\"RX QPSK:\", np.round(rx_data_no_precoding, 3))\n",
    "print(\"Sai số tuyệt đối:\", np.round(np.abs(data - rx_data_no_precoding), 4))\n"
   ]
  }
 ],
 "metadata": {
  "kernelspec": {
   "display_name": "base",
   "language": "python",
   "name": "python3"
  },
  "language_info": {
   "codemirror_mode": {
    "name": "ipython",
    "version": 3
   },
   "file_extension": ".py",
   "mimetype": "text/x-python",
   "name": "python",
   "nbconvert_exporter": "python",
   "pygments_lexer": "ipython3",
   "version": "3.12.7"
  }
 },
 "nbformat": 4,
 "nbformat_minor": 5
}
