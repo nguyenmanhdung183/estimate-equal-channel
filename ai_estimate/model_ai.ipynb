{
 "cells": [
  {
   "cell_type": "markdown",
   "id": "4bc54308",
   "metadata": {},
   "source": [
    "# Tạo 1 mô hình cho ước lượng"
   ]
  },
  {
   "cell_type": "code",
   "execution_count": null,
   "id": "7b6eaa6c",
   "metadata": {},
   "outputs": [],
   "source": [
    "'''\n",
    "Dùng mô hình CNN\n",
    "\n",
    "'''"
   ]
  },
  {
   "cell_type": "markdown",
   "id": "5b72dffd",
   "metadata": {},
   "source": [
    "# Import thư viện\n"
   ]
  },
  {
   "cell_type": "code",
   "execution_count": null,
   "id": "f290516d",
   "metadata": {},
   "outputs": [],
   "source": []
  },
  {
   "cell_type": "markdown",
   "id": "02c0a63f",
   "metadata": {},
   "source": [
    "# Tiền xử lý dữ liệu"
   ]
  },
  {
   "cell_type": "code",
   "execution_count": null,
   "id": "cd3789c6",
   "metadata": {},
   "outputs": [],
   "source": []
  },
  {
   "cell_type": "markdown",
   "id": "08049a16",
   "metadata": {},
   "source": [
    "# Huấn luyện mô hình"
   ]
  },
  {
   "cell_type": "code",
   "execution_count": null,
   "id": "692bb3e2",
   "metadata": {},
   "outputs": [],
   "source": []
  },
  {
   "cell_type": "markdown",
   "id": "b13b41b9",
   "metadata": {},
   "source": [
    "# Lưu mô hình"
   ]
  },
  {
   "cell_type": "code",
   "execution_count": null,
   "id": "37806674",
   "metadata": {},
   "outputs": [],
   "source": []
  }
 ],
 "metadata": {
  "kernelspec": {
   "display_name": "base",
   "language": "python",
   "name": "python3"
  },
  "language_info": {
   "name": "python",
   "version": "3.12.7"
  }
 },
 "nbformat": 4,
 "nbformat_minor": 5
}
