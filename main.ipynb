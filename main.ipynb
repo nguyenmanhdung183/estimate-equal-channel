{
 "cells": [
  {
   "cell_type": "code",
   "execution_count": 31,
   "id": "04ebb8ad",
   "metadata": {},
   "outputs": [],
   "source": [
    "import numpy as np\n",
    "import matplotlib.pyplot as plt\n",
    "import pandas as pd\n",
    "from ofdm import *\n",
    "from mod_16_qam import *\n",
    "from fading import *\n",
    "from gauss import *\n",
    "from estimate import *\n",
    "from equalize import *\n",
    "import random"
   ]
  },
  {
   "cell_type": "markdown",
   "id": "c70c3b2a",
   "metadata": {},
   "source": [
    "# 1 Mô Phỏng"
   ]
  },
  {
   "cell_type": "code",
   "execution_count": 32,
   "id": "2d504f89",
   "metadata": {},
   "outputs": [],
   "source": [
    "x_time = 14 # 0-13\n",
    "y_freq = 3276 # 0-3275\n",
    "z_mod = 4\n",
    "\n",
    "# đọc dữ liệu từ file Excel\n",
    "df = pd.read_excel('data/l1_mini_project_ce_eq_dmrs_data.xlsx', sheet_name='Sheet1', header=None)\n",
    "arr_r = df[0].apply(lambda x: complex(str(x).replace('i', 'j').replace(' ', ''))).to_numpy()"
   ]
  },
  {
   "cell_type": "markdown",
   "id": "efb0d2ff",
   "metadata": {},
   "source": [
    "Tạo chuỗi bit ngẫu nhiêu (giá trị 0 và 1) có kích thước 3276 × 13 × 4"
   ]
  },
  {
   "cell_type": "code",
   "execution_count": 33,
   "id": "def74cc1",
   "metadata": {},
   "outputs": [],
   "source": [
    "bits = ''.join(str(random.randint(0, 1)) for _ in range((x_time-1)*y_freq*z_mod))\n"
   ]
  },
  {
   "cell_type": "markdown",
   "id": "cf066693",
   "metadata": {},
   "source": [
    "Điều chế 16-QAM -> 3276x13 ký hiệu"
   ]
  },
  {
   "cell_type": "code",
   "execution_count": 34,
   "id": "116d313c",
   "metadata": {},
   "outputs": [],
   "source": [
    "symbols_16qam  = bits_to_symbols_16QAM(bits)"
   ]
  },
  {
   "cell_type": "markdown",
   "id": "bde255c6",
   "metadata": {},
   "source": [
    "Ánh xạ vào lưới tài nguyên :trên xuống dưới, trừ trái sang phải:"
   ]
  },
  {
   "cell_type": "code",
   "execution_count": 35,
   "id": "2c4c82e5",
   "metadata": {},
   "outputs": [],
   "source": [
    "grid = np.zeros((y_freq, x_time), dtype=complex)\n",
    "\n",
    "for i in range(y_freq):\n",
    "    for j in range(x_time):\n",
    "        if j < 3:\n",
    "            grid[i, j] = symbols_16qam[j*y_freq + i]\n",
    "        elif j==3:\n",
    "            grid[i, j] = arr_r[i]\n",
    "        else:\n",
    "            grid[i, j] = symbols_16qam[(j-1)*y_freq + i]"
   ]
  },
  {
   "cell_type": "markdown",
   "id": "bf38345e",
   "metadata": {},
   "source": [
    "Từ grid -> ánh xạ sang OFDM"
   ]
  },
  {
   "cell_type": "code",
   "execution_count": 36,
   "id": "17cbb060",
   "metadata": {},
   "outputs": [],
   "source": [
    "# ofdm cần thêm CP -> tín hiệu miền thời gian 61440 mẫu -> mà mới có 3276 * 14 = 61376 -> padding thêm\n",
    "ofdm_symbol = ofdm_single_symbol(grid[:, 0], 4096, 288)\n",
    "\n",
    "ofdm = np.zeros((4384, x_time), dtype=complex)\n",
    "for i in range(x_time):\n",
    "    ofdm[:, i] = ofdm_single_symbol(grid[:, i], 4096, 288)\n",
    "    \n",
    "# Ghép tất cả OFDM symbol thành 1 chuỗi dài 61376 mẫu\n",
    "ofdm_signal = ofdm.flatten(order='F')  # flatten theo cột (trước sau)\n",
    "# Padding thêm 64 mẫu 0 để đủ 61440 mẫu\n",
    "padding = np.zeros(64, dtype=complex)\n",
    "ofdm_signal = np.concatenate((ofdm_signal, padding))\n"
   ]
  },
  {
   "cell_type": "markdown",
   "id": "203efd84",
   "metadata": {},
   "source": [
    "Cho tín hiệu OFDM qua Fading channel  TDLB100-25\n",
    "\n",
    "TDL: Tapped Delay Line – mô hình kênh đa đường có nhiều taps\n",
    "B: Profile B (mức phản xạ trung bình)\n",
    "100ns: Delay spread\n",
    "25Hz: Doppler shift (UE di chuyển, tốc độ ~3km/h)"
   ]
  },
  {
   "cell_type": "code",
   "execution_count": 37,
   "id": "77358b1f",
   "metadata": {},
   "outputs": [],
   "source": [
    "fs = 30.72e6  # sampling rate (Hz) cho 5G LTE BW = 20MHz (chuẩn)\n",
    "channel_h = generate_tdlb_channel(fs)\n",
    "faded_signal = apply_fading_channel(ofdm_signal, channel_h)\n",
    "#faded_signal = ofdm_signal"
   ]
  },
  {
   "cell_type": "markdown",
   "id": "bd3cef2d",
   "metadata": {},
   "source": [
    "Tiếp tục cho tín hiệu đi qua nhiễu Gauss có SNR 20dB\n"
   ]
  },
  {
   "cell_type": "code",
   "execution_count": 38,
   "id": "71f52bc6",
   "metadata": {},
   "outputs": [],
   "source": [
    "rx_signal = add_awgn(faded_signal, snr_db=20)"
   ]
  },
  {
   "cell_type": "markdown",
   "id": "d8c395cc",
   "metadata": {},
   "source": [
    "Giải điều chế OFDM"
   ]
  },
  {
   "cell_type": "code",
   "execution_count": 39,
   "id": "6cebc013",
   "metadata": {},
   "outputs": [],
   "source": [
    "#rx_grid = ofdm_demodulate(rx_signal, fft_size=4096, cp_len=288, num_symbols=14)\n",
    "rx_grid = ofdm_demodulate(rx_signal, fft_size=4096, cp_len=288, num_symbols=14)\n",
    "\n",
    "# Cắt lại phần tương ứng với 3276 subcarriers (đầu tiên)\n",
    "rx_grid = rx_grid[:3276, :]  # Kích thước (3276 x 14)"
   ]
  },
  {
   "cell_type": "markdown",
   "id": "bb8bb46c",
   "metadata": {},
   "source": [
    "Giải điều chế 16QAM hardbit"
   ]
  },
  {
   "cell_type": "code",
   "execution_count": 40,
   "id": "dca2835b",
   "metadata": {},
   "outputs": [
    {
     "name": "stdout",
     "output_type": "stream",
     "text": [
      "Tổng số bit sau giải điều chế: 170352\n"
     ]
    }
   ],
   "source": [
    "data_cols = [i for i in range(14) if i != 3]  # loại bỏ cột 3 (DMRS)\n",
    "rx_bits_all = []\n",
    "\n",
    "for col in data_cols:\n",
    "    rx_symbols = rx_grid[:, col]\n",
    "    bits_col = qam16_demod_hard(rx_symbols)\n",
    "    rx_bits_all.extend(bits_col)\n",
    "\n",
    "print(\"Tổng số bit sau giải điều chế:\", len(rx_bits_all))  # sẽ là 3276 * 13 * 4 = 170352\n"
   ]
  },
  {
   "cell_type": "markdown",
   "id": "b962852d",
   "metadata": {},
   "source": [
    "So sánh sai lệch dữ dữ liệu 16QAM giữa TX & RX theo MSE"
   ]
  },
  {
   "cell_type": "code",
   "execution_count": 41,
   "id": "9085a01c",
   "metadata": {},
   "outputs": [
    {
     "name": "stdout",
     "output_type": "stream",
     "text": [
      "MSE giữa bit TX và RX: 0.45829811214426597\n"
     ]
    }
   ],
   "source": [
    "\n",
    "bits_rx = np.array([int(b) for b in bits], dtype=int)\n",
    "bits_tx = np.array([int(b) for b in rx_bits_all], dtype=int)\n",
    "\n",
    "mse_bits = np.mean((bits_rx - bits_tx) ** 2)\n",
    "print(\"MSE giữa bit TX và RX:\", mse_bits)"
   ]
  },
  {
   "cell_type": "markdown",
   "id": "585658c1",
   "metadata": {},
   "source": [
    "So sánh và tính toán sai lệch bit (BER) giữa đầu phát và đầu thu."
   ]
  },
  {
   "cell_type": "code",
   "execution_count": 42,
   "id": "005981ad",
   "metadata": {},
   "outputs": [
    {
     "name": "stdout",
     "output_type": "stream",
     "text": [
      "BER: 0.45829811214426597\n"
     ]
    }
   ],
   "source": [
    "ber = np.mean(bits_tx != bits_rx)\n",
    "print(\"BER:\", ber)"
   ]
  },
  {
   "cell_type": "markdown",
   "id": "533ca0d5",
   "metadata": {},
   "source": [
    "# 2 ƯỚC LƯỢNG"
   ]
  },
  {
   "cell_type": "markdown",
   "id": "61725e85",
   "metadata": {},
   "source": [
    "Uớc lượng kênh truyền bằng thuật toán LS. \n"
   ]
  },
  {
   "cell_type": "code",
   "execution_count": 43,
   "id": "9e0e10d9",
   "metadata": {},
   "outputs": [],
   "source": [
    "#https://tailieusinhvien.net/phan-tich-so-sanh-ky-thuat-uoc-luong-kenh-ls-va-mmse-trong-he-thong-ofdm-duoi-nuoc-7436/\n",
    "df = pd.read_excel('data/l1_mini_project_ce_eq_dmrs_data.xlsx', sheet_name='Sheet1', header=None)\n",
    "X = df[0].apply(lambda x: complex(str(x).replace('i', 'j').replace(' ', ''))).to_numpy()\n",
    "\n",
    "Y = rx_grid[:, 3]  # cột DMRS\n",
    "\n",
    "# X= H.x +n -> tìm H sao cho ||Y-Hx||^2 min; H = X^-1 .Y\n",
    "h_ls = estimate_channel_ls(X, Y)"
   ]
  },
  {
   "cell_type": "markdown",
   "id": "5434aa2b",
   "metadata": {},
   "source": [
    "Cân bằng kênh truyền bằng thuật toán ZF. \n"
   ]
  },
  {
   "cell_type": "code",
   "execution_count": 44,
   "id": "e128ff4b",
   "metadata": {},
   "outputs": [
    {
     "name": "stdout",
     "output_type": "stream",
     "text": [
      "MSE (ZF): 0.012668\n",
      "BER (ZF): 0.012668\n"
     ]
    }
   ],
   "source": [
    "rx_grid_equalized = equalize_zf(rx_grid, h_ls)\n",
    "# Giải điều chế 16-QAM và tính BER/MSE\n",
    "rx_bits_all_zf = []\n",
    "data_cols = [i for i in range(14) if i != 3]\n",
    "for col in data_cols:\n",
    "    rx_symbols = rx_grid_equalized[:, col]\n",
    "    bits_col = qam16_demod_hard(rx_symbols)\n",
    "    rx_bits_all_zf.extend(bits_col)\n",
    "\n",
    "bits_rx = np.array([int(b) for b in bits], dtype=int)\n",
    "bits_tx_zf = np.array([int(b) for b in rx_bits_all_zf], dtype=int)\n",
    "mse_zf = np.mean((bits_rx - bits_tx_zf) ** 2)\n",
    "ber_zf = np.mean(bits_rx != bits_tx_zf)\n",
    "\n",
    "print(f\"MSE (ZF): {mse_zf:.6f}\")\n",
    "print(f\"BER (ZF): {ber_zf:.6f}\")"
   ]
  },
  {
   "cell_type": "markdown",
   "id": "39613421",
   "metadata": {},
   "source": [
    "Thay đổi giá trị SNR từ 0 đến 30, khoảng cách 2dB. Vẽ biểu đồ MSE và biểu đồ BER.\n"
   ]
  },
  {
   "cell_type": "code",
   "execution_count": null,
   "id": "0b38bc28",
   "metadata": {},
   "outputs": [],
   "source": []
  },
  {
   "cell_type": "markdown",
   "id": "0bc49c73",
   "metadata": {},
   "source": [
    "So sánh MSE và BLER giữa có và không có sử dụng ước lượng/cân bằng kênh truyền. \n"
   ]
  },
  {
   "cell_type": "markdown",
   "id": "a144c305",
   "metadata": {},
   "source": [
    "# 3 Phát triển và đánh giá thuật toán ước lượng kênh truyền nâng cao."
   ]
  },
  {
   "cell_type": "code",
   "execution_count": null,
   "id": "89797a73",
   "metadata": {},
   "outputs": [],
   "source": []
  },
  {
   "cell_type": "markdown",
   "id": "e5c18c93",
   "metadata": {},
   "source": [
    "Thay thế thuật toán LS bằng thuật toán ước lượng kênh truyền nâng cao MMSE, sử \n",
    "dụng bộ cân bằng MMSE và so sánh biểu đồ MSE, BER với thuật toán LS/ZF."
   ]
  },
  {
   "cell_type": "code",
   "execution_count": 45,
   "id": "91c1e8d6",
   "metadata": {},
   "outputs": [
    {
     "name": "stdout",
     "output_type": "stream",
     "text": [
      "MSE (MMSE): 0.013026\n",
      "BER (MMSE): 0.013026\n"
     ]
    }
   ],
   "source": [
    "h_mmse = estimate_channel_mmse(X, Y, snr_db=20)  # SNR = 20 dB\n",
    "\n",
    "# Áp dụng cân bằng MMSE thay vì ZF\n",
    "snr_db = 20  # Giả định SNR = 20 dB như trong notebook\n",
    "rx_grid_equalized = np.zeros_like(rx_grid, dtype=complex)\n",
    "for col in range(x_time):\n",
    "    if col != 3:  # Bỏ qua cột DMRS\n",
    "        rx_grid_equalized[:, col] = equalize_mmse(rx_grid[:, col], h_mmse, snr_db)\n",
    "    else:\n",
    "        rx_grid_equalized[:, col] = rx_grid[:, col]\n",
    "\n",
    "# Giải điều chế 16-QAM và tính BER/MSE\n",
    "rx_bits_all_mmse = []\n",
    "data_cols = [i for i in range(14) if i != 3]\n",
    "for col in data_cols:\n",
    "    rx_symbols = rx_grid_equalized[:, col]\n",
    "    bits_col = qam16_demod_hard(rx_symbols)\n",
    "    rx_bits_all_mmse.extend(bits_col)\n",
    "\n",
    "bits_rx = np.array([int(b) for b in bits], dtype=int)\n",
    "bits_tx_mmse = np.array([int(b) for b in rx_bits_all_mmse], dtype=int)\n",
    "mse_mmse = np.mean((bits_rx - bits_tx_mmse) ** 2)\n",
    "ber_mmse = np.mean(bits_rx != bits_tx_mmse)\n",
    "\n",
    "print(f\"MSE (MMSE): {mse_mmse:.6f}\")\n",
    "print(f\"BER (MMSE): {ber_mmse:.6f}\")\n"
   ]
  },
  {
   "cell_type": "markdown",
   "id": "9022f65e",
   "metadata": {},
   "source": [
    "Thực hiện đánh giá lại các phương pháp với số lượng mẫu là 10000 lưới tài nguyên, \n",
    "bổ sung thêm các kiểu điều chế QPSK và 64QAM."
   ]
  },
  {
   "cell_type": "code",
   "execution_count": null,
   "id": "1f83eee7",
   "metadata": {},
   "outputs": [],
   "source": []
  }
 ],
 "metadata": {
  "kernelspec": {
   "display_name": "base",
   "language": "python",
   "name": "python3"
  },
  "language_info": {
   "codemirror_mode": {
    "name": "ipython",
    "version": 3
   },
   "file_extension": ".py",
   "mimetype": "text/x-python",
   "name": "python",
   "nbconvert_exporter": "python",
   "pygments_lexer": "ipython3",
   "version": "3.12.7"
  }
 },
 "nbformat": 4,
 "nbformat_minor": 5
}
